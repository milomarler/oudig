{
 "cells": [
  {
   "cell_type": "code",
   "execution_count": 2,
   "metadata": {},
   "outputs": [
    {
     "name": "stdout",
     "output_type": "stream",
     "text": [
      "Total number of canal boats in Amsterdam: 550\n",
      "Number of electric canal boats: 412\n",
      "Number of canal boats powered by fossil fuels: 138\n"
     ]
    }
   ],
   "source": [
    "# Question 2.1\n",
    "\n",
    "amount_canal_boats = 550\n",
    "electric_percentage = 75\n",
    "electric_boats = int((electric_percentage / 100) * total_canal_boats)\n",
    "fossil_fuel_boats = total_canal_boats - electric_boats\n",
    "\n",
    "print(f\"Total number of canal boats in Amsterdam: {total_canal_boats}\")\n",
    "print(f\"Number of electric canal boats: {electric_boats}\")\n",
    "print(f\"Number of canal boats powered by fossil fuels: {fossil_fuel_boats}\")"
   ]
  },
  {
   "cell_type": "code",
   "execution_count": 3,
   "metadata": {},
   "outputs": [
    {
     "name": "stdout",
     "output_type": "stream",
     "text": [
      "Energy consumption per passenger-kilometer for diesel canal boats: 0.075 kWh\n",
      "Energy consumption per passenger-kilometer for electric canal boats: 0.046 kWh\n"
     ]
    }
   ],
   "source": [
    "# Question 2.3\n",
    "\n",
    "#  General information boat trips\n",
    "trip_length = 7.5\n",
    "trip_capacity = 80\n",
    "\n",
    "# Energy usage per boat type\n",
    "diesel_boat_kwh = 45\n",
    "electric_boat_kwh = 27.5\n",
    "\n",
    "# Calculation energy usage per km\n",
    "diesel_energy_per_passenger_km = diesel_energy_consumption_kwh / (trip_capacity_persons * trip_length_km)\n",
    "electric_energy_per_passenger_km = electric_energy_consumption_kwh / (trip_capacity_persons * trip_length_km)\n",
    "\n",
    "print(\"Energy consumption per passenger-kilometer for diesel canal boats: {:.3f} kWh\".format(diesel_energy_per_passenger_km))\n",
    "print(\"Energy consumption per passenger-kilometer for electric canal boats: {:.3f} kWh\".format(electric_energy_per_passenger_km))"
   ]
  },
  {
   "cell_type": "code",
   "execution_count": 14,
   "metadata": {},
   "outputs": [
    {
     "name": "stdout",
     "output_type": "stream",
     "text": [
      "Number of solar panels needed: 203475.11312217193\n",
      "Area of solar panels needed: 305212.6696832579\n"
     ]
    }
   ],
   "source": [
    "# Question 2.6\n",
    "\n",
    "#  General information energy boats\n",
    "total_energy_boats_kWh = 44968000\n",
    "conversion_factor = 0.85\n",
    "wattage_solarpanel = 260\n",
    "area_solarpanel = 1.5\n",
    "\n",
    "# Calculations\n",
    "conversion = total_energy_boats_kWh / conversion_factor\n",
    "amount_solarpanels = conversion / wattage_solarpanel\n",
    "area_solarpanels = total_amount_solarpanels * area_solarpanel\n",
    "\n",
    "print(f\"Number of solar panels needed: {amount_solarpanels}\")\n",
    "print(f\"Area of solar panels needed: {area_solarpanels}\")"
   ]
  },
  {
   "cell_type": "code",
   "execution_count": 15,
   "metadata": {},
   "outputs": [
    {
     "name": "stdout",
     "output_type": "stream",
     "text": [
      "Number of wind turbines needed: 7.494666666666666\n"
     ]
    }
   ],
   "source": [
    "# Question 2.6\n",
    "\n",
    "#  General information energy boats\n",
    "total_energy_boats_kWh = 44968000\n",
    "output_windturbine = 6000000\n",
    "\n",
    "# Calculations\n",
    "amount_windturbines = total_energy_boats_kWh / output_windturbine\n",
    "\n",
    "print(f\"Number of wind turbines needed: {amount_windturbines}\")"
   ]
  }
 ],
 "metadata": {
  "kernelspec": {
   "display_name": "Python 3",
   "language": "python",
   "name": "python3"
  },
  "language_info": {
   "codemirror_mode": {
    "name": "ipython",
    "version": 3
   },
   "file_extension": ".py",
   "mimetype": "text/x-python",
   "name": "python",
   "nbconvert_exporter": "python",
   "pygments_lexer": "ipython3",
   "version": "3.11.5"
  }
 },
 "nbformat": 4,
 "nbformat_minor": 2
}

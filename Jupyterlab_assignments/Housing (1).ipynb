{
 "cells": [
  {
   "cell_type": "code",
   "execution_count": 1,
   "metadata": {},
   "outputs": [
    {
     "name": "stdout",
     "output_type": "stream",
     "text": [
      "The tourist tax for hotels will be 2115000.00\n",
      "The tourist tax for AirBnB's will be 2880000.00\n"
     ]
    }
   ],
   "source": [
    "# Question 3.1\n",
    "\n",
    "#Variables\n",
    "hotel_price = 125\n",
    "airbnb_price = 160\n",
    "nights = 6\n",
    "tourists = 30000\n",
    "\n",
    "#calculation touristtax\n",
    "tax_hotel = (0.07 * hotel_price + 3) * nights * tourists\n",
    "tax_airbnb = (0.1 * airbnb_price) * nights * tourists\n",
    "\n",
    "print(\"The tourist tax for hotels will be\", format(tax_hotel,'.2f'))\n",
    "print(\"The tourist tax for AirBnB's will be\", format(tax_airbnb,'.2f'))"
   ]
  }
 ],
 "metadata": {
  "kernelspec": {
   "display_name": "Python 3",
   "language": "python",
   "name": "python3"
  },
  "language_info": {
   "codemirror_mode": {
    "name": "ipython",
    "version": 3
   },
   "file_extension": ".py",
   "mimetype": "text/x-python",
   "name": "python",
   "nbconvert_exporter": "python",
   "pygments_lexer": "ipython3",
   "version": "3.11.5"
  }
 },
 "nbformat": 4,
 "nbformat_minor": 2
}
